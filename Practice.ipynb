{
 "cells": [
  {
   "cell_type": "code",
   "execution_count": 1,
   "id": "4dee889a",
   "metadata": {},
   "outputs": [],
   "source": [
    "import numpy as np\n",
    "import matplotlib.pyplot as plt\n"
   ]
  },
  {
   "cell_type": "code",
   "execution_count": 13,
   "id": "3ae217e1",
   "metadata": {},
   "outputs": [
    {
     "name": "stdout",
     "output_type": "stream",
     "text": [
      "[[   1 1500 1600 1700 1800]\n",
      " [   2 2000 2100 2200 2300]\n",
      " [   3 2500 2600 2700 2800]\n",
      " [   4 3000 3100 3200 3300]\n",
      " [   5 3500 3600 3700 3800]]\n"
     ]
    }
   ],
   "source": [
    "# Data Structure: [returant_id, 2021, 2022, 2023,2024]\n",
    "\n",
    "sales_data = np.array([\n",
    "    [1, 1500, 1600, 1700, 1800], #Paradise Biryani\n",
    "    [2, 2000, 2100, 2200, 2300], #Beijan Bites\n",
    "    [3, 2500, 2600, 2700, 2800], #pizza Hut\n",
    "    [4, 3000, 3100, 3200, 3300], #Burger King\n",
    "    [5, 3500, 3600, 3700, 3800] #Chai Point\n",
    "])\n",
    "print(sales_data)"
   ]
  },
  {
   "cell_type": "code",
   "execution_count": 11,
   "id": "3fcc091c",
   "metadata": {},
   "outputs": [
    {
     "name": "stdout",
     "output_type": "stream",
     "text": [
      "====Sales Analysis of Restaurants (2021-2024)====\n",
      "\n",
      " Sales Data Shape: (5, 5)\n",
      "\n",
      " sample data for firsrt three restaurants:\n",
      " [[1500 1600 1700 1800]\n",
      " [2000 2100 2200 2300]\n",
      " [2500 2600 2700 2800]]\n"
     ]
    }
   ],
   "source": [
    "print(\"====Sales Analysis of Restaurants (2021-2024)====\")\n",
    "\n",
    "print(\"\\n Sales Data Shape:\", sales_data.shape)\n",
    "print(\"\\n sample data for firsrt three restaurants:\\n\", sales_data[:3,1:])\n"
   ]
  },
  {
   "cell_type": "code",
   "execution_count": null,
   "id": "28e9f5f3",
   "metadata": {},
   "outputs": [
    {
     "name": "stdout",
     "output_type": "stream",
     "text": [
      "\n",
      "Total Sales per Year: [12500 13000 13500 14000]\n"
     ]
    }
   ],
   "source": [
    "#Total sales per year\n",
    "\n",
    "print(\"\\nTotal Sales per Year:\",sales_data[:, 1:].sum(axis=0)) # sum across rows for each year"
   ]
  },
  {
   "cell_type": "code",
   "execution_count": 10,
   "id": "6c9a689f",
   "metadata": {},
   "outputs": [
    {
     "name": "stdout",
     "output_type": "stream",
     "text": [
      "\n",
      "Minimum Sales per Restaurant: [1500 2000 2500 3000 3500]\n"
     ]
    }
   ],
   "source": [
    "#Minimum sales per restaurant\n",
    "print(\"\\nMinimum Sales per Restaurant:\", np.min(sales_data[:,1:,],axis=1)) # min across years for each restaurant"
   ]
  },
  {
   "cell_type": "code",
   "execution_count": 12,
   "id": "3d7d382b",
   "metadata": {},
   "outputs": [
    {
     "name": "stdout",
     "output_type": "stream",
     "text": [
      "\n",
      "Maximum Sales per Year: [3500 3600 3700 3800]\n"
     ]
    }
   ],
   "source": [
    "#Maximum sales per year\n",
    "print(\"\\nMaximum Sales per Year:\", np.max(sales_data[:,1:],axis=0)) # max across restaurants for each year"
   ]
  },
  {
   "cell_type": "code",
   "execution_count": 14,
   "id": "37c4ca34",
   "metadata": {},
   "outputs": [
    {
     "name": "stdout",
     "output_type": "stream",
     "text": [
      "\n",
      "Average Sales per Restaurant: [1650. 2150. 2650. 3150. 3650.]\n"
     ]
    }
   ],
   "source": [
    "#Average sales per restaurant\n",
    "print(\"\\nAverage Sales per Restaurant:\", np.mean(sales_data[:,1:],axis=1)) # mean across years for each restaurant"
   ]
  },
  {
   "cell_type": "code",
   "execution_count": 15,
   "id": "8f4500b0",
   "metadata": {},
   "outputs": [
    {
     "name": "stdout",
     "output_type": "stream",
     "text": [
      "\n",
      "Cumulative Sales per Restaurant:\n",
      " [[ 1500  3100  4800  6600]\n",
      " [ 2000  4100  6300  8600]\n",
      " [ 2500  5100  7800 10600]\n",
      " [ 3000  6100  9300 12600]\n",
      " [ 3500  7100 10800 14600]]\n"
     ]
    }
   ],
   "source": [
    "cumsum = np.cumsum(sales_data[:, 1:], axis=1)\n",
    "print(\"\\nCumulative Sales per Restaurant:\\n\", cumsum)"
   ]
  },
  {
   "cell_type": "code",
   "execution_count": 16,
   "id": "67bb6272",
   "metadata": {},
   "outputs": [
    {
     "name": "stdout",
     "output_type": "stream",
     "text": [
      "\n",
      "Restaurant Types in Upper Case: ['BIRYANI' 'BITES' 'PIZZA' 'BURGER' 'CHAI']\n"
     ]
    }
   ],
   "source": [
    "resturant_types = np.array(['biryani', 'bites', 'pizza', 'burger', 'chai'])\n",
    "\n",
    "vectorized_upper = np.vectorize(str.upper)\n",
    "print(\"\\nRestaurant Types in Upper Case:\", vectorized_upper(resturant_types))"
   ]
  },
  {
   "cell_type": "code",
   "execution_count": 18,
   "id": "c11e44a0",
   "metadata": {},
   "outputs": [],
   "source": [
    "array_1 = np.array([[1, 2, 3],[4, 5, 6]])\n",
    "array_2 = np.random.rand(3,3)\n",
    "array_3 = np.zeros((3, 3))\n",
    "\n"
   ]
  },
  {
   "cell_type": "code",
   "execution_count": 19,
   "id": "c108ae3e",
   "metadata": {},
   "outputs": [],
   "source": [
    "np.save('array_1.npy', array_1)\n",
    "np.save('array_2.npy', array_2)\n",
    "np.save('array_3.npy', array_3)"
   ]
  },
  {
   "cell_type": "code",
   "execution_count": 21,
   "id": "687ff37d",
   "metadata": {},
   "outputs": [
    {
     "name": "stdout",
     "output_type": "stream",
     "text": [
      "\n",
      "Loaded Array 1:\n",
      " [[1 2 3]\n",
      " [4 5 6]]\n",
      "\n",
      "Loaded Array 2:\n",
      " [[0.6453883  0.18985293 0.80615045]\n",
      " [0.20892725 0.83025338 0.60508045]\n",
      " [0.3484115  0.55313731 0.99457121]]\n",
      "\n",
      "Loaded Array 3:\n",
      " [[0. 0. 0.]\n",
      " [0. 0. 0.]\n",
      " [0. 0. 0.]]\n"
     ]
    }
   ],
   "source": [
    "loaded_array_1 = np.load('array_1.npy')\n",
    "print(\"\\nLoaded Array 1:\\n\", loaded_array_1)\n",
    "loaded_array_2 = np.load('array_2.npy')\n",
    "print(\"\\nLoaded Array 2:\\n\", loaded_array_2)\n",
    "loaded_array_3 = np.load('array_3.npy')\n",
    "print(\"\\nLoaded Array 3:\\n\", loaded_array_3)"
   ]
  },
  {
   "cell_type": "code",
   "execution_count": 22,
   "id": "a5000a68",
   "metadata": {},
   "outputs": [
    {
     "data": {
      "image/png": "[encoded data removed]",
      "text/plain": [
       "<Figure size 600x600 with 1 Axes>"
      ]
     },
     "metadata": {},
     "output_type": "display_data"
    }
   ],
   "source": [
    "try:\n",
    "    logo = np.load('numpy-logo.npy')\n",
    "\n",
    "    #Display\n",
    "    plt.figure(figsize=(6, 6))\n",
    "    plt.subplot(111)\n",
    "    plt.imshow(logo, cmap='gray')\n",
    "    plt.title('NumPy Logo')\n",
    "    plt.grid('off')\n",
    "except FileNotFoundError:\n",
    "    print(\"File not found. Please check the file path.\")\n",
    "\n"
   ]
  }
 ],
 "metadata": {
  "kernelspec": {
   "display_name": "Python 3",
   "language": "python",
   "name": "python3"
  },
  "language_info": {
   "codemirror_mode": {
    "name": "ipython",
    "version": 3
   },
   "file_extension": ".py",
   "mimetype": "text/x-python",
   "name": "python",
   "nbconvert_exporter": "python",
   "pygments_lexer": "ipython3",
   "version": "3.11.9"
  }
 },
 "nbformat": 4,
 "nbformat_minor": 5
}
