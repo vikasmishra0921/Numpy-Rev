{
 "cells": [
  {
   "cell_type": "code",
   "execution_count": 1,
   "id": "70660459",
   "metadata": {},
   "outputs": [],
   "source": [
    "import numpy as np"
   ]
  },
  {
   "cell_type": "markdown",
   "id": "68ece2d4",
   "metadata": {},
   "source": [
    "Creating array from list\n"
   ]
  },
  {
   "cell_type": "code",
   "execution_count": 2,
   "id": "a05b97bf",
   "metadata": {},
   "outputs": [
    {
     "name": "stdout",
     "output_type": "stream",
     "text": [
      "1D Array:\n",
      " [1 2 3 4 5]\n",
      "2D Array:\n",
      " [[1 2 3]\n",
      " [4 5 6]]\n"
     ]
    }
   ],
   "source": [
    "arr_1d = np.array([1,2,3,4,5 ])\n",
    "print(\"1D Array:\\n\", arr_1d)\n",
    "arr_2d = np.array([[1, 2, 3], [4, 5, 6]])\n",
    "print(\"2D Array:\\n\", arr_2d)\n",
    "\n"
   ]
  },
  {
   "cell_type": "code",
   "execution_count": 3,
   "id": "0f29c26d",
   "metadata": {},
   "outputs": [
    {
     "name": "stdout",
     "output_type": "stream",
     "text": [
      "Time taken with Python list: 0.483964204788208\n",
      "Time taken with NumPy array: 1.3089196681976318\n"
     ]
    }
   ],
   "source": [
    "import time \n",
    "\n",
    "start = time.time()\n",
    "py_list = [i*2 for i in range(1000000)]\n",
    "end = time.time()\n",
    "print(\"Time taken with Python list:\", end - start)\n",
    "\n",
    "start = time.time()\n",
    "np_array = np.array([i*2 for i in range(1000000)])\n",
    "end = time.time()\n",
    "print(\"Time taken with NumPy array:\", end - start)\n"
   ]
  },
  {
   "cell_type": "code",
   "execution_count": 4,
   "id": "64f31c68",
   "metadata": {},
   "outputs": [
    {
     "data": {
      "text/plain": [
       "'\\nTime taken with Python list: 0.123456 seconds\\nTime taken with NumPy array: 0.045678 seconds\\n# The NumPy array is significantly faster for large data operations compared to a Python list.\\n'"
      ]
     },
     "execution_count": 4,
     "metadata": {},
     "output_type": "execute_result"
    }
   ],
   "source": [
    "'''\n",
    "Time taken with Python list: 0.123456 seconds\n",
    "Time taken with NumPy array: 0.045678 seconds\n",
    "# The NumPy array is significantly faster for large data operations compared to a Python list.\n",
    "'''"
   ]
  },
  {
   "cell_type": "markdown",
   "id": "c02dc5f7",
   "metadata": {},
   "source": [
    "Creating metrics from scratch\n"
   ]
  },
  {
   "cell_type": "code",
   "execution_count": 5,
   "id": "565ea659",
   "metadata": {},
   "outputs": [
    {
     "name": "stdout",
     "output_type": "stream",
     "text": [
      "Zeros Array:\n",
      " [[0. 0.]\n",
      " [0. 0.]]\n",
      "Ones Array:\n",
      " [[1. 1.]\n",
      " [1. 1.]]\n",
      "Full Array:\n",
      " [[8 8]\n",
      " [8 8]]\n",
      "Random Array:\n",
      " [[0.74848384 0.12373434]\n",
      " [0.43922464 0.0342635 ]]\n",
      "Identity Matrix:\n",
      " [[1. 0. 0.]\n",
      " [0. 1. 0.]\n",
      " [0. 0. 1.]]\n",
      "sequence Matrix:\n",
      " [ 1  4  7 10 13 16 19]\n"
     ]
    }
   ],
   "source": [
    "zeros = np.zeros((2,2))\n",
    "print(\"Zeros Array:\\n\", zeros)\n",
    "\n",
    "ones = np.ones((2,2))\n",
    "print(\"Ones Array:\\n\", ones)\n",
    "\n",
    "full = np.full((2,2),8)\n",
    "print(\"Full Array:\\n\", full)\n",
    "\n",
    "random_array = np.random.random((2,2))\n",
    "print(\"Random Array:\\n\", random_array)\n",
    "\n",
    "identity = np.identity(3)\n",
    "print(\"Identity Matrix:\\n\", identity)\n",
    "\n",
    "sequence = np.arange(1,20,3)\n",
    "print(\"sequence Matrix:\\n\",sequence)"
   ]
  },
  {
   "cell_type": "markdown",
   "id": "3d1d1594",
   "metadata": {},
   "source": [
    "Vector, Metrics and Tensor\n"
   ]
  },
  {
   "cell_type": "code",
   "execution_count": 6,
   "id": "b8645dba",
   "metadata": {},
   "outputs": [
    {
     "name": "stdout",
     "output_type": "stream",
     "text": [
      "Vector:\n",
      " [1 2 3]\n",
      "Metrics Array:\n",
      " [[1 2 3]\n",
      " [4 5 6]\n",
      " [7 8 9]]\n",
      "Tensor Array:\n",
      " [[[1 2]\n",
      "  [3 4]]\n",
      "\n",
      " [[5 6]\n",
      "  [7 8]]]\n"
     ]
    }
   ],
   "source": [
    "vector = np.array([1,2,3])\n",
    "print(\"Vector:\\n\", vector)\n",
    "\n",
    "Metrics = np.array([[1, 2, 3], [4, 5, 6], [7, 8, 9]]) \n",
    "print(\"Metrics Array:\\n\", Metrics) \n",
    "\n",
    "tensor = np.array([[[1, 2], [3, 4]], [[5, 6], [7, 8]]])\n",
    "print(\"Tensor Array:\\n\", tensor)"
   ]
  },
  {
   "cell_type": "markdown",
   "id": "50ff55ce",
   "metadata": {},
   "source": [
    "Array Properties\n"
   ]
  },
  {
   "cell_type": "code",
   "execution_count": 7,
   "id": "ca0fde53",
   "metadata": {},
   "outputs": [
    {
     "name": "stdout",
     "output_type": "stream",
     "text": [
      "Shape of arr: (2, 3)\n",
      "Number of dimensions of arr: 2\n",
      "Size of arr: 6\n",
      "Data type of arr: float64\n",
      "Item size of arr: 8\n"
     ]
    }
   ],
   "source": [
    "arr = np.array([[1, 2, 3], [4, 5, 6.2]])\n",
    "\n",
    "print(\"Shape of arr:\", arr.shape)\n",
    "print(\"Number of dimensions of arr:\", arr.ndim)\n",
    "print(\"Size of arr:\", arr.size)\n",
    "print(\"Data type of arr:\", arr.dtype)\n",
    "print(\"Item size of arr:\", arr.itemsize)\n"
   ]
  },
  {
   "cell_type": "markdown",
   "id": "1d1758a8",
   "metadata": {},
   "source": [
    "Array Reshaping\n"
   ]
  },
  {
   "cell_type": "code",
   "execution_count": 8,
   "id": "66aa666b",
   "metadata": {},
   "outputs": [
    {
     "name": "stdout",
     "output_type": "stream",
     "text": [
      "Original Array:\n",
      " [[1 2 3]\n",
      " [4 5 6]]\n",
      "Transposed Array:\n",
      " [[1 4]\n",
      " [2 5]\n",
      " [3 6]]\n",
      "Reshaped Array:\n",
      " [[1 2]\n",
      " [3 4]\n",
      " [5 6]]\n",
      "Flattened Array:\n",
      " [1 2 3 4 5 6]\n",
      "Raveled Array:\n",
      " [1 2 3 4 5 6]\n"
     ]
    }
   ],
   "source": [
    "arr = np.array([[1, 2, 3], [4, 5, 6]])\n",
    "print(\"Original Array:\\n\", arr)\n",
    "\n",
    "arr_transpose = arr.T\n",
    "print(\"Transposed Array:\\n\", arr_transpose)\n",
    "\n",
    "Reshaped_array = arr.reshape(3, 2)\n",
    "print(\"Reshaped Array:\\n\", Reshaped_array)\n",
    "\n",
    "flattened_array = Reshaped_array.flatten()\n",
    "print(\"Flattened Array:\\n\", flattened_array)\n",
    "\n",
    "Raveled_array = Reshaped_array.ravel()\n",
    "print(\"Raveled Array:\\n\", Raveled_array)"
   ]
  },
  {
   "cell_type": "markdown",
   "id": "5c665f13",
   "metadata": {},
   "source": [
    "Numpy Array Operation\n"
   ]
  },
  {
   "cell_type": "code",
   "execution_count": 9,
   "id": "b0d08d3f",
   "metadata": {},
   "outputs": [
    {
     "name": "stdout",
     "output_type": "stream",
     "text": [
      "Basic Slicing : \n",
      " [3 4 5 6 7]\n",
      "With Step Slicing : \n",
      " [3 5 7]\n",
      "Reverse Slicing : \n",
      " [10  9  8  7  6  5  4  3  2  1]\n",
      "Slicing with Negative Indices : \n",
      " [6 7 8 9]\n",
      "Slicing with Step and Negative Indices : \n",
      " [10  8  6]\n"
     ]
    }
   ],
   "source": [
    "arr = np.array([1,2,3,4,5,6,7,8,9,10])\n",
    "\n",
    "print(\"Basic Slicing : \\n\", arr[2:7])\n",
    "print(\"With Step Slicing : \\n\", arr[2:7:2])\n",
    "print(\"Reverse Slicing : \\n\", arr[::-1])\n",
    "print(\"Slicing with Negative Indices : \\n\", arr[-5:-1])\n",
    "print(\"Slicing with Step and Negative Indices : \\n\", arr[-1:-6:-2])\n"
   ]
  },
  {
   "cell_type": "code",
   "execution_count": 10,
   "id": "185314f3",
   "metadata": {},
   "outputs": [
    {
     "name": "stdout",
     "output_type": "stream",
     "text": [
      "Specific Element Slicing:\n",
      " 6\n",
      "Row Slicing:\n",
      " [4 5 6]\n",
      "Column Slicing:\n",
      " [2 5 8]\n",
      "Sub-array Slicing:\n",
      " [[2 3]\n",
      " [5 6]]\n"
     ]
    }
   ],
   "source": [
    "array_2d = np.array([[1, 2, 3], \n",
    "                     [4, 5, 6], \n",
    "                     [7, 8, 9]])\n",
    "print(\"Specific Element Slicing:\\n\", array_2d[1, 2])  # Accessing element at row 1, column 2\n",
    "print(\"Row Slicing:\\n\", array_2d[1, :])  # Accessing entire row 1\n",
    "print(\"Column Slicing:\\n\", array_2d[:, 1])  # Accessing entire column 1\n",
    "print(\"Sub-array Slicing:\\n\", array_2d[0:2, 1:3])  # Accessing a sub-array from rows 0 to 1 and columns 1 to 2\n"
   ]
  },
  {
   "cell_type": "markdown",
   "id": "b2504f30",
   "metadata": {},
   "source": [
    "### Sorting\n"
   ]
  },
  {
   "cell_type": "code",
   "execution_count": 11,
   "id": "4cb142c2",
   "metadata": {},
   "outputs": [
    {
     "name": "stdout",
     "output_type": "stream",
     "text": [
      "[1 2 3 4 5]\n",
      "Sorted indices: [1 3 0 2 4]\n"
     ]
    }
   ],
   "source": [
    "unsorted_array = np.array([3, 1, 4, 2, 5])\n",
    "print(np.sort(unsorted_array))  # Sorts the array in ascending order\n",
    "\n",
    "sorted_indices = np.argsort(unsorted_array)\n",
    "print(\"Sorted indices:\", sorted_indices)  # Returns the indices that would sort the array\n"
   ]
  },
  {
   "cell_type": "markdown",
   "id": "1e9cd8a6",
   "metadata": {},
   "source": [
    "Filter\n"
   ]
  },
  {
   "cell_type": "code",
   "execution_count": 12,
   "id": "8bbc91ae",
   "metadata": {},
   "outputs": [
    {
     "name": "stdout",
     "output_type": "stream",
     "text": [
      "Even Numbers:\n",
      " [ 2  4  6  8 10]\n",
      "Odd Numbers:\n",
      " [1 3 5 7 9]\n"
     ]
    }
   ],
   "source": [
    "numbers = np.array([1,2,3,4,5,6,7,8,9,10])\n",
    "even_number = numbers[numbers %  2 == 0]\n",
    "print(\"Even Numbers:\\n\", even_number)\n",
    "\n",
    "odd_number = numbers[numbers % 2 != 0]\n",
    "print(\"Odd Numbers:\\n\", odd_number)"
   ]
  },
  {
   "cell_type": "markdown",
   "id": "98560ea2",
   "metadata": {},
   "source": [
    "Filtering with mask\n"
   ]
  },
  {
   "cell_type": "code",
   "execution_count": 13,
   "id": "3ca1de68",
   "metadata": {},
   "outputs": [
    {
     "name": "stdout",
     "output_type": "stream",
     "text": [
      "Filtered Numbers (5 < x < 9):\n",
      " [6 7 8]\n"
     ]
    }
   ],
   "source": [
    "mask = (numbers > 5) & (numbers < 9)\n",
    "filtered_numbers = numbers[mask]\n",
    "print(\"Filtered Numbers (5 < x < 9):\\n\", filtered_numbers)"
   ]
  },
  {
   "cell_type": "markdown",
   "id": "193b0c37",
   "metadata": {},
   "source": [
    "Fancy Indexing vs np.where()\n"
   ]
  },
  {
   "cell_type": "code",
   "execution_count": 14,
   "id": "03569025",
   "metadata": {},
   "outputs": [
    {
     "name": "stdout",
     "output_type": "stream",
     "text": [
      "Elements at Indices 0, 2, 4, 6, 8:\n",
      " [1 3 5 7 9]\n",
      "Indices where numbers > 5:\n",
      " [ 6  7  8  9 10]\n"
     ]
    }
   ],
   "source": [
    "indices = [0, 2, 4, 6, 8]\n",
    "print(\"Elements at Indices 0, 2, 4, 6, 8:\\n\", numbers[indices])\n",
    "\n",
    "where_indices = np.where(numbers > 5)\n",
    "print(\"Indices where numbers > 5:\\n\", numbers[where_indices])  # Returns the indices of elements greater than 5"
   ]
  },
  {
   "cell_type": "code",
   "execution_count": 15,
   "id": "973b1194",
   "metadata": {},
   "outputs": [
    {
     "name": "stdout",
     "output_type": "stream",
     "text": [
      "Conditional Array (numbers > 5 ? numbers / 3 : numbers * 2):\n",
      " [ 2.          4.          6.          8.         10.          2.\n",
      "  2.33333333  2.66666667  3.          3.33333333]\n"
     ]
    }
   ],
   "source": [
    "conditional_array = np.where(numbers > 5, numbers / 3, numbers * 2)\n",
    "print(\"Conditional Array (numbers > 5 ? numbers / 3 : numbers * 2):\\n\", conditional_array)"
   ]
  },
  {
   "cell_type": "markdown",
   "id": "297b5dba",
   "metadata": {},
   "source": [
    "Adding or removing array"
   ]
  },
  {
   "cell_type": "code",
   "execution_count": 16,
   "metadata": {},
   "outputs": [
    {
     "name": "stdout",
     "output_type": "stream",
     "text": [
      "Sum of arr1 and arr2:\n",
      " [5 7 9]\n",
      "Concatenated Array:\n",
      " [1 2 3 4 5 6]\n"
     ]
    }
   ],
   "source": [
    "arr1 =np.array([1, 2, 3])\n",
    "arr2 = np.array([4, 5, 6])\n",
    "\n",
    "arr_sum = arr1 + arr2\n",
    "print(\"Sum of arr1 and arr2:\\n\", arr_sum) \n",
    "\n",
    "combined = np.concatenate((arr1, arr2))\n",
    "print(\"Concatenated Array:\\n\", combined)"
   ]
  },
  {
   "cell_type": "markdown",
   "id": "6ba13746",
   "metadata": {},
   "source": [
    "Array compatibility"
   ]
  },
  {
   "cell_type": "code",
   "execution_count": 17,
   "id": "4465e01d",
   "metadata": {},
   "outputs": [
    {
     "name": "stdout",
     "output_type": "stream",
     "text": [
      "compatibility shape of a, b, c: True\n"
     ]
    }
   ],
   "source": [
    "a = np.array([[1, 2], [3, 4]])\n",
    "b = np.array([[5, 6], [7, 8]])\n",
    "c = np.array([[9, 10], [11, 12]])\n",
    "\n",
    "print(\"compatibility shape of a, b, c:\",a.shape == b.shape == c.shape) "
   ]
  },
  {
   "cell_type": "code",
   "execution_count": 19,
   "id": "07128d32",
   "metadata": {},
   "outputs": [
    {
     "name": "stdout",
     "output_type": "stream",
     "text": [
      "Original Array:\n",
      " [[1 2]\n",
      " [3 4]]\n",
      "New Row to Add:\n",
      " [[5 6]]\n",
      "Array after adding new row:\n",
      " [[1 2]\n",
      " [3 4]\n",
      " [5 6]]\n",
      "New Column to Add:\n",
      " [[1 2 7]\n",
      " [3 4 8]]\n"
     ]
    }
   ],
   "source": [
    "original = np.array([[1, 2], [3, 4]])\n",
    "new_row = np.array([[5, 6]])\n",
    "\n",
    "with_new_row = np.vstack((original, new_row))\n",
    "print(\"Original Array:\\n\", original)\n",
    "print(\"New Row to Add:\\n\", new_row)\n",
    "print(\"Array after adding new row:\\n\", with_new_row)\n",
    "\n",
    "\n",
    "new_col = np.array([[7], [8]])\n",
    "with_new_col = np.hstack((original, new_col))\n",
    "print(\"New Column to Add:\\n\", with_new_col)"
   ]
  },
  {
   "cell_type": "code",
   "execution_count": 23,
   "id": "d2b263ae",
   "metadata": {},
   "outputs": [
    {
     "name": "stdout",
     "output_type": "stream",
     "text": [
      "Original Array:\n",
      " [[1 2 3 4]]\n",
      "Array after deleting second column:\n",
      " [[1 2 4]]\n"
     ]
    }
   ],
   "source": [
    "arr = np.array([[1, 2,3, 4]])\n",
    "\n",
    "deleted = np.delete(arr,2, axis=1) # Deleting the second column\n",
    "print(\"Original Array:\\n\", arr)\n",
    "print(\"Array after deleting second column:\\n\", deleted) "
   ]
  },
  {
   "cell_type": "code",
   "execution_count": null,
   "id": "036f6a05",
   "metadata": {},
   "outputs": [],
   "source": []
  }
 ],
 "metadata": {
  "kernelspec": {
   "display_name": "Python 3",
   "language": "python",
   "name": "python3"
  },
  "language_info": {
   "codemirror_mode": {
    "name": "ipython",
    "version": 3
   },
   "file_extension": ".py",
   "mimetype": "text/x-python",
   "name": "python",
   "nbconvert_exporter": "python",
   "pygments_lexer": "ipython3",
   "version": "3.11.9"
  }
 },
 "nbformat": 4,
 "nbformat_minor": 5
}
